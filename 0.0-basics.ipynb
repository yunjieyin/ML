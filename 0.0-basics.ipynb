{
 "cells": [
  {
   "cell_type": "markdown",
   "metadata": {
    "collapsed": true
   },
   "source": [
    "# Basic Concepts"
   ]
  },
  {
   "cell_type": "markdown",
   "metadata": {},
   "source": [
    "## 机器学习分类：\n",
    "* 监督学习\n",
    "* 无监督学习\n",
    "* 半监督学习\n",
    "* 强化学习"
   ]
  },
  {
   "cell_type": "markdown",
   "metadata": {},
   "source": [
    "### 无监督学习\n",
    "* K-Means\n",
    "* Hierarchical Cluster Analysis(HCA)\n",
    "* Expectation Maximization\n",
    "* Principal Component Analysis(PCA）\n",
    "* Kernel PCA\n",
    "* Locally-Linear Embedding\n",
    "* t-distributed Stochatic Neihbor Embedding"
   ]
  },
  {
   "cell_type": "markdown",
   "metadata": {},
   "source": [
    "### 特征工程\n",
    "* 特征选择： 从已有的所有特征中选择最有用的特征进行训练\n",
    "* 特征提取： 根据已有的特征提取出一个或多个有用的特征\n",
    "* 创造特征： 通过收集新的数据并创造特征"
   ]
  },
  {
   "cell_type": "markdown",
   "metadata": {},
   "source": [
    "### 过拟合\n",
    "  过拟合通常发生在：相对于训练数据的数量和噪声，模型过于复杂。解决的方法有：\n",
    "* 简化设计的模型\n",
    "* 收集更多的数据\n",
    "* 减少训练数据的噪声\n",
    "这一过程也称为正则化。"
   ]
  },
  {
   "cell_type": "markdown",
   "metadata": {},
   "source": [
    "### 超参数\n",
    "超参数是学习算法的一个参数，算法不会对超参数有影响，但是在学习之前必须提前设定，并且在训练过程中保持不变。"
   ]
  },
  {
   "cell_type": "markdown",
   "metadata": {},
   "source": [
    "### 欠拟合\n",
    "   欠拟合是指由于模型过于简单而无法完全学习到训练数据的特征或模式。解决欠拟合的方法主要有：\n",
    "* 选择一个合适的模型\n",
    "* 训练时使用更加合理的特征\n",
    "* 减少模型的约束"
   ]
  },
  {
   "cell_type": "markdown",
   "metadata": {},
   "source": [
    "### 训练集、验证集、测试集\n",
    "模型在训练集上训练完成后并在测试集中进行测试。模型在测试集上的误差称为泛化误差。\n",
    "如果出现训练误差较小而测试误差较大的情况则说明模型出现了过拟合。\n",
    "验证集主要是用来调试各个超参数的数据集。"
   ]
  }
 ],
 "metadata": {
  "kernelspec": {
   "display_name": "Python 2",
   "language": "python",
   "name": "python2"
  },
  "language_info": {
   "codemirror_mode": {
    "name": "ipython",
    "version": 2
   },
   "file_extension": ".py",
   "mimetype": "text/x-python",
   "name": "python",
   "nbconvert_exporter": "python",
   "pygments_lexer": "ipython2",
   "version": "2.7.6"
  }
 },
 "nbformat": 4,
 "nbformat_minor": 0
}
